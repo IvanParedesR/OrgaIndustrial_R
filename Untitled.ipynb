{
 "cells": [
  {
   "cell_type": "code",
   "execution_count": 4,
   "id": "7afc9333",
   "metadata": {},
   "outputs": [],
   "source": [
    "#https://towardsdatascience.com/game-theory-in-python-with-nashpy-cb5dceab262c"
   ]
  },
  {
   "cell_type": "code",
   "execution_count": 6,
   "id": "7d992c72",
   "metadata": {},
   "outputs": [
    {
     "ename": "ModuleNotFoundError",
     "evalue": "No module named 'nashpy'",
     "output_type": "error",
     "traceback": [
      "\u001b[1;31m---------------------------------------------------------------------------\u001b[0m",
      "\u001b[1;31mModuleNotFoundError\u001b[0m                       Traceback (most recent call last)",
      "Cell \u001b[1;32mIn[6], line 1\u001b[0m\n\u001b[1;32m----> 1\u001b[0m \u001b[38;5;28;01mimport\u001b[39;00m \u001b[38;5;21;01mnashpy\u001b[39;00m \u001b[38;5;28;01mas\u001b[39;00m \u001b[38;5;21;01mnash\u001b[39;00m\n\u001b[0;32m      2\u001b[0m \u001b[38;5;28;01mimport\u001b[39;00m \u001b[38;5;21;01mnumpy\u001b[39;00m \u001b[38;5;28;01mas\u001b[39;00m \u001b[38;5;21;01mnp\u001b[39;00m\n\u001b[0;32m      4\u001b[0m \u001b[38;5;66;03m# Create the game with the payoff matrix\u001b[39;00m\n",
      "\u001b[1;31mModuleNotFoundError\u001b[0m: No module named 'nashpy'"
     ]
    }
   ],
   "source": [
    "import nashpy as nash\n",
    "import numpy as np\n",
    "\n",
    "# Create the game with the payoff matrix\n",
    "A = np.array([[2,0],[4,2]]) # A is the row player\n",
    "B = np.array([[4,2],[2,0]]) # B is the column player\n",
    "game1 = nash.Game(A,B)\n",
    "game1"
   ]
  },
  {
   "cell_type": "code",
   "execution_count": 7,
   "id": "58168477",
   "metadata": {},
   "outputs": [
    {
     "ename": "NameError",
     "evalue": "name 'game1' is not defined",
     "output_type": "error",
     "traceback": [
      "\u001b[1;31m---------------------------------------------------------------------------\u001b[0m",
      "\u001b[1;31mNameError\u001b[0m                                 Traceback (most recent call last)",
      "Cell \u001b[1;32mIn[7], line 2\u001b[0m\n\u001b[0;32m      1\u001b[0m \u001b[38;5;66;03m# Find the Nash Equilibrium with Support Enumeration\u001b[39;00m\n\u001b[1;32m----> 2\u001b[0m equilibria \u001b[38;5;241m=\u001b[39m game1\u001b[38;5;241m.\u001b[39msupport_enumeration()\n\u001b[0;32m      3\u001b[0m \u001b[38;5;28;01mfor\u001b[39;00m eq \u001b[38;5;129;01min\u001b[39;00m equilibria:\n\u001b[0;32m      4\u001b[0m     \u001b[38;5;28mprint\u001b[39m(eq)\n",
      "\u001b[1;31mNameError\u001b[0m: name 'game1' is not defined"
     ]
    }
   ],
   "source": [
    "# Find the Nash Equilibrium with Support Enumeration\n",
    "equilibria = game1.support_enumeration()\n",
    "for eq in equilibria:\n",
    "    print(eq)"
   ]
  },
  {
   "cell_type": "code",
   "execution_count": null,
   "id": "0a6dbdfa",
   "metadata": {},
   "outputs": [],
   "source": []
  }
 ],
 "metadata": {
  "kernelspec": {
   "display_name": "Python 3 (ipykernel)",
   "language": "python",
   "name": "python3"
  },
  "language_info": {
   "codemirror_mode": {
    "name": "ipython",
    "version": 3
   },
   "file_extension": ".py",
   "mimetype": "text/x-python",
   "name": "python",
   "nbconvert_exporter": "python",
   "pygments_lexer": "ipython3",
   "version": "3.11.5"
  }
 },
 "nbformat": 4,
 "nbformat_minor": 5
}
